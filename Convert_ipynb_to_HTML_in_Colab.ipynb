{
  "cells": [
    {
      "cell_type": "markdown",
      "metadata": {
        "id": "OOUwSOZ4AqyT"
      },
      "source": [
        "## Export your assignment notebook to HTML\n",
        "\n",
        "This cell walks you through the recommended way to export your assignment notebook to pdf for submission.\n",
        "\n",
        "**Instructions**:    \n",
        "1. Download the your assignment from collab to your local computer in ipynb format via `File -> Download -> Download .ipynb`.    \n",
        "2. Run the code cell below. It will prompt you to upload a file. Upload the `.ipynb` file you just downloaded.  \n",
        "3. It will then use the `nbconvert` package to convert your ipynb notebook to an html file and download it to your local machine. Use this HTML file to prepare your submission.\n",
        "4. When you print from HTML, use the print dialogue to scale the pages so that long lines are not truncated."
      ]
    },
    {
      "cell_type": "code",
      "execution_count": null,
      "metadata": {
        "id": "4FhcP565-JpA"
      },
      "outputs": [],
      "source": [
        "# Upload ipynb\n",
        "from google.colab import files\n",
        "f = files.upload()\n",
        "\n",
        "# Convert ipynb to html\n",
        "import subprocess\n",
        "file0 = list(f.keys())[0]\n",
        "_ = subprocess.run([\"pip\", \"install\", \"nbconvert\"])\n",
        "_ = subprocess.run([\"jupyter\", \"nbconvert\", file0, \"--to\", \"html\"])\n",
        "\n",
        "# download the html\n",
        "files.download(file0[:-5]+\"html\")\n"
      ]
    }
  ],
  "metadata": {
    "colab": {
      "provenance": []
    },
    "kernelspec": {
      "display_name": "Python 3",
      "name": "python3"
    },
    "language_info": {
      "name": "python"
    }
  },
  "nbformat": 4,
  "nbformat_minor": 0
}
